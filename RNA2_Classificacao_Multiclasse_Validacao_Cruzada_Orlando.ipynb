{
 "cells": [
  {
   "cell_type": "markdown",
   "metadata": {
    "id": "BwZs0LTu4cfl"
   },
   "source": [
    "# Orlando - Classificação Multiclasse - Iris Cruzada"
   ]
  },
  {
   "cell_type": "code",
   "execution_count": 8,
   "metadata": {
    "executionInfo": {
     "elapsed": 9416,
     "status": "ok",
     "timestamp": 1719243421403,
     "user": {
      "displayName": "Jones Granatyr",
      "userId": "10042675233362078631"
     },
     "user_tz": 180
    },
    "id": "mKB16Mlo4o8E"
   },
   "outputs": [
    {
     "name": "stderr",
     "output_type": "stream",
     "text": [
      "c:\\Users\\CLIENTE\\anaconda3\\envs\\orlando\\lib\\site-packages\\keras\\src\\layers\\core\\input_layer.py:27: UserWarning: Argument `input_shape` is deprecated. Use `shape` instead.\n",
      "  warnings.warn(\n",
      "c:\\Users\\CLIENTE\\anaconda3\\envs\\orlando\\lib\\site-packages\\keras\\src\\layers\\core\\input_layer.py:27: UserWarning: Argument `input_shape` is deprecated. Use `shape` instead.\n",
      "  warnings.warn(\n",
      "c:\\Users\\CLIENTE\\anaconda3\\envs\\orlando\\lib\\site-packages\\keras\\src\\layers\\core\\input_layer.py:27: UserWarning: Argument `input_shape` is deprecated. Use `shape` instead.\n",
      "  warnings.warn(\n",
      "c:\\Users\\CLIENTE\\anaconda3\\envs\\orlando\\lib\\site-packages\\keras\\src\\layers\\core\\input_layer.py:27: UserWarning: Argument `input_shape` is deprecated. Use `shape` instead.\n",
      "  warnings.warn(\n",
      "c:\\Users\\CLIENTE\\anaconda3\\envs\\orlando\\lib\\site-packages\\keras\\src\\layers\\core\\input_layer.py:27: UserWarning: Argument `input_shape` is deprecated. Use `shape` instead.\n",
      "  warnings.warn(\n",
      "c:\\Users\\CLIENTE\\anaconda3\\envs\\orlando\\lib\\site-packages\\keras\\src\\layers\\core\\input_layer.py:27: UserWarning: Argument `input_shape` is deprecated. Use `shape` instead.\n",
      "  warnings.warn(\n",
      "c:\\Users\\CLIENTE\\anaconda3\\envs\\orlando\\lib\\site-packages\\keras\\src\\layers\\core\\input_layer.py:27: UserWarning: Argument `input_shape` is deprecated. Use `shape` instead.\n",
      "  warnings.warn(\n",
      "c:\\Users\\CLIENTE\\anaconda3\\envs\\orlando\\lib\\site-packages\\keras\\src\\layers\\core\\input_layer.py:27: UserWarning: Argument `input_shape` is deprecated. Use `shape` instead.\n",
      "  warnings.warn(\n",
      "c:\\Users\\CLIENTE\\anaconda3\\envs\\orlando\\lib\\site-packages\\keras\\src\\layers\\core\\input_layer.py:27: UserWarning: Argument `input_shape` is deprecated. Use `shape` instead.\n",
      "  warnings.warn(\n",
      "c:\\Users\\CLIENTE\\anaconda3\\envs\\orlando\\lib\\site-packages\\keras\\src\\layers\\core\\input_layer.py:27: UserWarning: Argument `input_shape` is deprecated. Use `shape` instead.\n",
      "  warnings.warn(\n"
     ]
    },
    {
     "name": "stdout",
     "output_type": "stream",
     "text": [
      " Acurácias por fold: [1.     0.9333 1.     0.6667 0.9333 0.9333 1.     1.     1.     1.    ]\n",
      " Acurácia média: 0.9467\n",
      " Desvio padrão: 0.0980\n"
     ]
    },
    {
     "data": {
      "image/png": "[encoded data removed]",
      "text/plain": [
       "<Figure size 800x500 with 1 Axes>"
      ]
     },
     "metadata": {},
     "output_type": "display_data"
    }
   ],
   "source": [
    "import pandas as pd\n",
    "import numpy as np\n",
    "import matplotlib.pyplot as plt\n",
    "import seaborn as sns\n",
    "\n",
    "import tensorflow as tf\n",
    "from tensorflow.keras.models import Sequential\n",
    "from tensorflow.keras.layers import Dense, InputLayer\n",
    "from tensorflow.keras import backend as K\n",
    "\n",
    "from sklearn.preprocessing import LabelEncoder\n",
    "from sklearn.model_selection import StratifiedKFold, cross_val_score\n",
    "from scikeras.wrappers import KerasClassifier\n",
    "\n",
    "# ---------------------------------------\n",
    "# 2. Carregamento da base de dados\n",
    "# ---------------------------------------\n",
    "base = pd.read_csv(r\"C:\\Users\\CLIENTE\\OneDrive\\PROJETOS\\PROJETO_DEEP_LEARNING\\Parte 1 - Redes Neurais Artificiais\\classificação mais classes\\iris.csv\")\n",
    "\n",
    "# Separando variáveis preditoras (X) e classe (y)\n",
    "X = base.iloc[:, 0:4].values\n",
    "y = base.iloc[:, 4].values\n",
    "\n",
    "# Convertendo classes de texto para inteiros (0, 1, 2)\n",
    "labelencoder = LabelEncoder()\n",
    "y = labelencoder.fit_transform(y)\n",
    "\n",
    "# ---------------------------------------\n",
    "# 3. Definição da arquitetura da rede\n",
    "# ---------------------------------------\n",
    "def criar_rede():\n",
    "    K.clear_session()  # Limpa sessões anteriores do backend\n",
    "    model = Sequential()\n",
    "    model.add(InputLayer(input_shape=(4,)))\n",
    "    model.add(Dense(4, activation='relu'))\n",
    "    model.add(Dense(4, activation='relu'))\n",
    "    model.add(Dense(3, activation='softmax'))  # 3 classes -> saída softmax\n",
    "    model.compile(optimizer='adam', \n",
    "                  loss='sparse_categorical_crossentropy',  # Usa sparse pois y está em inteiros\n",
    "                  metrics=['accuracy'])\n",
    "    return model\n",
    "\n",
    "# ---------------------------------------\n",
    "# 4. Empacotando com Scikeras\n",
    "# ---------------------------------------\n",
    "rede_neural = KerasClassifier(\n",
    "    model=criar_rede,\n",
    "    epochs=250,\n",
    "    batch_size=10,\n",
    "    verbose=0\n",
    ")\n",
    "\n",
    "# ---------------------------------------\n",
    "# 5. Validação cruzada com 10 folds\n",
    "# ---------------------------------------\n",
    "kfold = StratifiedKFold(n_splits=10, shuffle=True, random_state=42)\n",
    "\n",
    "resultados = cross_val_score(estimator=rede_neural,\n",
    "                             X=X,\n",
    "                             y=y,\n",
    "                             cv=kfold,\n",
    "                             scoring='accuracy')\n",
    "\n",
    "# ---------------------------------------\n",
    "# 6. Exibição dos resultados\n",
    "# ---------------------------------------\n",
    "print(\" Acurácias por fold:\", np.round(resultados, 4))\n",
    "print(f\" Acurácia média: {resultados.mean():.4f}\")\n",
    "print(f\" Desvio padrão: {resultados.std():.4f}\")\n",
    "\n",
    "# ---------------------------------------\n",
    "# 7. Visualização da acurácia por fold\n",
    "# ---------------------------------------\n",
    "plt.figure(figsize=(8, 5))\n",
    "sns.boxplot(data=resultados, orient='h', color='lightblue')\n",
    "sns.stripplot(data=resultados, orient='h', color='black', size=8, jitter=0.1)\n",
    "plt.title(\"Distribuição da Acurácia - Validação Cruzada (10 Folds)\")\n",
    "plt.xlabel(\"Acurácia\")\n",
    "plt.xlim(0.5, 1.05)\n",
    "plt.grid(True)\n",
    "plt.tight_layout()\n",
    "plt.show()\n"
   ]
  },
  {
   "cell_type": "markdown",
   "metadata": {},
   "source": [
    "### Considerações:\n",
    "\n",
    "Os resultados apresentados por meio da validação cruzada com 10 folds mostram um desempenho notavelmente elevado da rede neural artificial (RNA) aplicada à base de dados Íris, com acurácia média de aproximadamente 94,67% e baixo desvio padrão de 0,0980, indicando não apenas precisão, mas também estabilidade do modelo nas diferentes partições dos dados.\n",
    "\n",
    "A distribuição das acurácias evidencia que a maioria dos folds obteve acurácia igual a 100%, com exceção de um outlier que atingiu 66,67%, indicando que em uma das subdivisões o modelo teve maior dificuldade para generalizar corretamente. Isso pode ter ocorrido por variações na representatividade das amostras de cada classe dentro desse fold em específico, o que é comum em bases pequenas como a Íris, composta por apenas 150 amostras divididas entre três classes.\n",
    "\n",
    "O boxplot apresentado reforça a consistência geral da rede, com os valores distribuídos majoritariamente próximos do valor máximo (1.0). A presença de poucos valores abaixo de 90% e de um único outlier sugere que a arquitetura atual é eficaz, mas também sensível à variação entre os folds — um indicativo de que, embora robusta, a rede pode se beneficiar de estratégias adicionais de regularização, aumento de dados (data augmentation) ou validação estratificada com múltiplas repetições para suavizar essas discrepâncias.\n",
    "\n",
    "A arquitetura empregada (duas camadas ocultas com 4 neurônios e ativação ReLU, seguido de uma camada softmax) mostrou-se adequada para a separabilidade natural da base Íris, que é conhecida por ter divisões bem definidas, especialmente entre a classe Iris-setosa e as demais. No entanto, a queda pontual na acurácia em um dos folds alerta para a possibilidade de confusão entre as classes versicolor e virginica — historicamente as mais difíceis de distinguir nessa base.\n",
    "\n",
    "Em síntese, os resultados sugerem que a RNA construída possui elevado poder preditivo e generalização eficiente, sendo capaz de lidar com o problema multiclasse com baixo viés e variância controlada. Contudo, o comportamento atípico observado em um dos folds recomenda uma investigação complementar da composição desse subconjunto, além da eventual aplicação de métodos de robustez estatística ou validação repetida para consolidação das métricas apresentadas.\n",
    "\n",
    "\n",
    "\n",
    "\n",
    "\n",
    "\n",
    "\n",
    "\n"
   ]
  }
 ],
 "metadata": {
  "colab": {
   "authorship_tag": "ABX9TyPcMGlwLZEvhA7s0B8xlw97",
   "provenance": []
  },
  "kernelspec": {
   "display_name": "orlando",
   "language": "python",
   "name": "python3"
  },
  "language_info": {
   "codemirror_mode": {
    "name": "ipython",
    "version": 3
   },
   "file_extension": ".py",
   "mimetype": "text/x-python",
   "name": "python",
   "nbconvert_exporter": "python",
   "pygments_lexer": "ipython3",
   "version": "3.9.20"
  }
 },
 "nbformat": 4,
 "nbformat_minor": 0
}
